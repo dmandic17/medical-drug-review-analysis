{
 "cells": [
  {
   "cell_type": "markdown",
   "metadata": {
    "colab_type": "text",
    "id": "view-in-github"
   },
   "source": [
    "<a href=\"https://colab.research.google.com/github/dmandic17/medical-drug-review-analysis/blob/main/Project.ipynb\" target=\"_parent\"><img src=\"https://colab.research.google.com/assets/colab-badge.svg\" alt=\"Open In Colab\"/></a>"
   ]
  },
  {
   "cell_type": "markdown",
   "metadata": {},
   "source": [
    "# Data preview and analysis of useful reviews\n",
    "\n",
    "**In this notebook, we show how the data that will be used looks like (the data is filtered using notebook01). Also, we explore some of the data properties and show them using plots.**"
   ]
  },
  {
   "cell_type": "code",
   "execution_count": 1,
   "metadata": {
    "colab": {
     "base_uri": "https://localhost:8080/"
    },
    "id": "KEZsznff2PMP",
    "outputId": "d4af4a16-39c0-43f5-db17-8fa4a5264031"
   },
   "outputs": [
    {
     "data": {
      "text/html": [
       "<div>\n",
       "<style scoped>\n",
       "    .dataframe tbody tr th:only-of-type {\n",
       "        vertical-align: middle;\n",
       "    }\n",
       "\n",
       "    .dataframe tbody tr th {\n",
       "        vertical-align: top;\n",
       "    }\n",
       "\n",
       "    .dataframe thead th {\n",
       "        text-align: right;\n",
       "    }\n",
       "</style>\n",
       "<table border=\"1\" class=\"dataframe\">\n",
       "  <thead>\n",
       "    <tr style=\"text-align: right;\">\n",
       "      <th></th>\n",
       "      <th>Unnamed: 0</th>\n",
       "      <th>uniqueID</th>\n",
       "      <th>drugName</th>\n",
       "      <th>condition</th>\n",
       "      <th>review</th>\n",
       "      <th>rating</th>\n",
       "      <th>date</th>\n",
       "      <th>usefulCount</th>\n",
       "      <th>condition_count</th>\n",
       "    </tr>\n",
       "  </thead>\n",
       "  <tbody>\n",
       "    <tr>\n",
       "      <th>0</th>\n",
       "      <td>1</td>\n",
       "      <td>95260</td>\n",
       "      <td>Guanfacine</td>\n",
       "      <td>ADHD</td>\n",
       "      <td>\"My son is halfway through his fourth week of ...</td>\n",
       "      <td>8</td>\n",
       "      <td>27-Apr-10</td>\n",
       "      <td>192</td>\n",
       "      <td>3383.0</td>\n",
       "    </tr>\n",
       "    <tr>\n",
       "      <th>1</th>\n",
       "      <td>2</td>\n",
       "      <td>92703</td>\n",
       "      <td>Lybrel</td>\n",
       "      <td>Birth Control</td>\n",
       "      <td>\"I used to take another oral contraceptive, wh...</td>\n",
       "      <td>5</td>\n",
       "      <td>14-Dec-09</td>\n",
       "      <td>17</td>\n",
       "      <td>28788.0</td>\n",
       "    </tr>\n",
       "    <tr>\n",
       "      <th>2</th>\n",
       "      <td>3</td>\n",
       "      <td>138000</td>\n",
       "      <td>Ortho Evra</td>\n",
       "      <td>Birth Control</td>\n",
       "      <td>\"This is my first time using any form of birth...</td>\n",
       "      <td>8</td>\n",
       "      <td>3-Nov-15</td>\n",
       "      <td>10</td>\n",
       "      <td>28788.0</td>\n",
       "    </tr>\n",
       "    <tr>\n",
       "      <th>3</th>\n",
       "      <td>4</td>\n",
       "      <td>35696</td>\n",
       "      <td>Buprenorphine / naloxone</td>\n",
       "      <td>Opiate Dependence</td>\n",
       "      <td>\"Suboxone has completely turned my life around...</td>\n",
       "      <td>9</td>\n",
       "      <td>27-Nov-16</td>\n",
       "      <td>37</td>\n",
       "      <td>1079.0</td>\n",
       "    </tr>\n",
       "    <tr>\n",
       "      <th>4</th>\n",
       "      <td>5</td>\n",
       "      <td>155963</td>\n",
       "      <td>Cialis</td>\n",
       "      <td>Benign Prostatic Hyperplasia</td>\n",
       "      <td>\"2nd day on 5mg started to work with rock hard...</td>\n",
       "      <td>2</td>\n",
       "      <td>28-Nov-15</td>\n",
       "      <td>43</td>\n",
       "      <td>561.0</td>\n",
       "    </tr>\n",
       "  </tbody>\n",
       "</table>\n",
       "</div>"
      ],
      "text/plain": [
       "   Unnamed: 0  uniqueID                  drugName  \\\n",
       "0           1     95260                Guanfacine   \n",
       "1           2     92703                    Lybrel   \n",
       "2           3    138000                Ortho Evra   \n",
       "3           4     35696  Buprenorphine / naloxone   \n",
       "4           5    155963                    Cialis   \n",
       "\n",
       "                      condition  \\\n",
       "0                          ADHD   \n",
       "1                 Birth Control   \n",
       "2                 Birth Control   \n",
       "3             Opiate Dependence   \n",
       "4  Benign Prostatic Hyperplasia   \n",
       "\n",
       "                                              review  rating       date  \\\n",
       "0  \"My son is halfway through his fourth week of ...       8  27-Apr-10   \n",
       "1  \"I used to take another oral contraceptive, wh...       5  14-Dec-09   \n",
       "2  \"This is my first time using any form of birth...       8   3-Nov-15   \n",
       "3  \"Suboxone has completely turned my life around...       9  27-Nov-16   \n",
       "4  \"2nd day on 5mg started to work with rock hard...       2  28-Nov-15   \n",
       "\n",
       "   usefulCount  condition_count  \n",
       "0          192           3383.0  \n",
       "1           17          28788.0  \n",
       "2           10          28788.0  \n",
       "3           37           1079.0  \n",
       "4           43            561.0  "
      ]
     },
     "execution_count": 1,
     "metadata": {},
     "output_type": "execute_result"
    }
   ],
   "source": [
    "import pandas as pd\n",
    "from matplotlib import pyplot as plt\n",
    "import seaborn as sns\n",
    "from tueplots import bundles\n",
    "\n",
    "plt.rcParams.update(bundles.neurips2021(usetex=False, ncols=2, nrows=1.7))\n",
    "\n",
    "data = pd.read_csv('../data/drugsComTrain_top_conditions.csv')\n",
    "data.head()"
   ]
  },
  {
   "cell_type": "code",
   "execution_count": 2,
   "metadata": {},
   "outputs": [
    {
     "name": "stdout",
     "output_type": "stream",
     "text": [
      "<class 'pandas.core.frame.DataFrame'>\n",
      "RangeIndex: 129376 entries, 0 to 129375\n",
      "Data columns (total 9 columns):\n",
      " #   Column           Non-Null Count   Dtype  \n",
      "---  ------           --------------   -----  \n",
      " 0   Unnamed: 0       129376 non-null  int64  \n",
      " 1   uniqueID         129376 non-null  int64  \n",
      " 2   drugName         129376 non-null  object \n",
      " 3   condition        128477 non-null  object \n",
      " 4   review           129376 non-null  object \n",
      " 5   rating           129376 non-null  int64  \n",
      " 6   date             129376 non-null  object \n",
      " 7   usefulCount      129376 non-null  int64  \n",
      " 8   condition_count  128477 non-null  float64\n",
      "dtypes: float64(1), int64(4), object(4)\n",
      "memory usage: 8.9+ MB\n"
     ]
    }
   ],
   "source": [
    "data.info()"
   ]
  },
  {
   "cell_type": "code",
   "execution_count": 3,
   "metadata": {},
   "outputs": [
    {
     "data": {
      "text/html": [
       "<div>\n",
       "<style scoped>\n",
       "    .dataframe tbody tr th:only-of-type {\n",
       "        vertical-align: middle;\n",
       "    }\n",
       "\n",
       "    .dataframe tbody tr th {\n",
       "        vertical-align: top;\n",
       "    }\n",
       "\n",
       "    .dataframe thead th {\n",
       "        text-align: right;\n",
       "    }\n",
       "</style>\n",
       "<table border=\"1\" class=\"dataframe\">\n",
       "  <thead>\n",
       "    <tr style=\"text-align: right;\">\n",
       "      <th></th>\n",
       "      <th>Unnamed: 0</th>\n",
       "      <th>uniqueID</th>\n",
       "      <th>rating</th>\n",
       "      <th>usefulCount</th>\n",
       "      <th>condition_count</th>\n",
       "    </tr>\n",
       "  </thead>\n",
       "  <tbody>\n",
       "    <tr>\n",
       "      <th>count</th>\n",
       "      <td>129376.000000</td>\n",
       "      <td>129376.000000</td>\n",
       "      <td>129376.00000</td>\n",
       "      <td>129376.000000</td>\n",
       "      <td>128477.000000</td>\n",
       "    </tr>\n",
       "    <tr>\n",
       "      <th>mean</th>\n",
       "      <td>80649.054315</td>\n",
       "      <td>116748.377613</td>\n",
       "      <td>6.93985</td>\n",
       "      <td>27.982137</td>\n",
       "      <td>9028.427290</td>\n",
       "    </tr>\n",
       "    <tr>\n",
       "      <th>std</th>\n",
       "      <td>46580.269019</td>\n",
       "      <td>66397.541841</td>\n",
       "      <td>3.27517</td>\n",
       "      <td>37.028198</td>\n",
       "      <td>10851.917269</td>\n",
       "    </tr>\n",
       "    <tr>\n",
       "      <th>min</th>\n",
       "      <td>1.000000</td>\n",
       "      <td>3.000000</td>\n",
       "      <td>1.00000</td>\n",
       "      <td>0.000000</td>\n",
       "      <td>501.000000</td>\n",
       "    </tr>\n",
       "    <tr>\n",
       "      <th>25%</th>\n",
       "      <td>40336.750000</td>\n",
       "      <td>60399.750000</td>\n",
       "      <td>4.00000</td>\n",
       "      <td>6.000000</td>\n",
       "      <td>1595.000000</td>\n",
       "    </tr>\n",
       "    <tr>\n",
       "      <th>50%</th>\n",
       "      <td>80665.000000</td>\n",
       "      <td>117619.000000</td>\n",
       "      <td>8.00000</td>\n",
       "      <td>16.000000</td>\n",
       "      <td>3609.000000</td>\n",
       "    </tr>\n",
       "    <tr>\n",
       "      <th>75%</th>\n",
       "      <td>120977.500000</td>\n",
       "      <td>173061.500000</td>\n",
       "      <td>10.00000</td>\n",
       "      <td>36.000000</td>\n",
       "      <td>9069.000000</td>\n",
       "    </tr>\n",
       "    <tr>\n",
       "      <th>max</th>\n",
       "      <td>161296.000000</td>\n",
       "      <td>232291.000000</td>\n",
       "      <td>10.00000</td>\n",
       "      <td>1291.000000</td>\n",
       "      <td>28788.000000</td>\n",
       "    </tr>\n",
       "  </tbody>\n",
       "</table>\n",
       "</div>"
      ],
      "text/plain": [
       "          Unnamed: 0       uniqueID        rating    usefulCount  \\\n",
       "count  129376.000000  129376.000000  129376.00000  129376.000000   \n",
       "mean    80649.054315  116748.377613       6.93985      27.982137   \n",
       "std     46580.269019   66397.541841       3.27517      37.028198   \n",
       "min         1.000000       3.000000       1.00000       0.000000   \n",
       "25%     40336.750000   60399.750000       4.00000       6.000000   \n",
       "50%     80665.000000  117619.000000       8.00000      16.000000   \n",
       "75%    120977.500000  173061.500000      10.00000      36.000000   \n",
       "max    161296.000000  232291.000000      10.00000    1291.000000   \n",
       "\n",
       "       condition_count  \n",
       "count    128477.000000  \n",
       "mean       9028.427290  \n",
       "std       10851.917269  \n",
       "min         501.000000  \n",
       "25%        1595.000000  \n",
       "50%        3609.000000  \n",
       "75%        9069.000000  \n",
       "max       28788.000000  "
      ]
     },
     "execution_count": 3,
     "metadata": {},
     "output_type": "execute_result"
    }
   ],
   "source": [
    "data.describe()"
   ]
  },
  {
   "cell_type": "code",
   "execution_count": 4,
   "metadata": {},
   "outputs": [],
   "source": [
    "# bat plot function, used multiple times:\n",
    "def bar_plot(ax, x, y, palette, title, ylabel, xlabel, angle=0):\n",
    "    sns.set(font_scale = 1.2, style = 'darkgrid')\n",
    "#     plt.rcParams['figure.figsize'] = [15, 8]\n",
    "    sns_useful = sns.barplot(x = x, y = y, palette = palette, alpha = 0.5, ax=ax)\n",
    "\n",
    "#     sns_useful.set_title(title)\n",
    "    sns_useful.set_ylabel(ylabel)\n",
    "    sns_useful.set_xlabel(xlabel)\n",
    "    plt.setp(sns_useful.get_xticklabels(), rotation=angle)\n",
    "    return sns_useful"
   ]
  },
  {
   "cell_type": "code",
   "execution_count": 5,
   "metadata": {},
   "outputs": [],
   "source": [
    "# text on the bars: \n",
    "from matplotlib.container import BarContainer\n",
    "\n",
    "def autolabel(bar_plot, bar_labels):\n",
    "    bars = [i for i in bar_plot.containers if isinstance(i, BarContainer)]\n",
    "    for idx, bar in enumerate(bars[0]):\n",
    "        if idx == 0:\n",
    "            height = bar.get_height()\n",
    "        width = bar.get_width()\n",
    "        bar_plot.text(bar.get_x() + width/2., height*0.03,\n",
    "                bar_labels[idx], fontsize = width * 7.1 ,\n",
    "                ha='center', va='bottom', rotation=90,\n",
    "                weight='bold')"
   ]
  },
  {
   "cell_type": "markdown",
   "metadata": {},
   "source": [
    "### Exploring for which conditions and medications are these reviews more useful than others (top 10)"
   ]
  },
  {
   "cell_type": "code",
   "execution_count": 15,
   "metadata": {
    "scrolled": false
   },
   "outputs": [
    {
     "name": "stdout",
     "output_type": "stream",
     "text": [
      "['Depression', 'Anxiety', 'Birth Control', 'Pain', 'Bipolar Disorde', 'Weight Loss', 'Obesity', 'Insomnia', 'ADHD', 'High Blood\\nPressure']\n",
      "[458918, 300272, 224326, 218605, 152603, 139854, 135174, 130801, 122385, 105743]\n",
      "['Phentermine/Weight Loss', 'Bupropion/Depression', 'Citalopram/Anxiety and Stress', 'Sertraline/Depression', 'Zoloft/Depression', 'Etonogestrel/Birth Control', 'Lorcaserin/Weight Loss', 'Belviq/Weight Loss', 'Buspirone/Anxiety', 'Trazodone/Insomnia']\n",
      "[39137, 31101, 25233, 23596, 23163, 21885, 21707, 21440, 20364, 20092]\n"
     ]
    },
    {
     "data": {
      "image/png": "[encoded data removed]",
      "text/plain": [
       "<Figure size 396x208.03 with 2 Axes>"
      ]
     },
     "metadata": {},
     "output_type": "display_data"
    }
   ],
   "source": [
    "# conditions top 10:\n",
    "cols = ['condition', 'usefulCount']\n",
    "\n",
    "df_useful = data[cols].groupby(by=[\"condition\"]).sum().sort_values(by='usefulCount', ascending = False).reset_index().head(10)\n",
    "\n",
    "\n",
    "usefulCount = df_useful['usefulCount']\n",
    "conditions = df_useful['condition']\n",
    "conditions[9] = 'High Blood\\nPressure' # just that it is two lines\n",
    "print(list(conditions))\n",
    "print(list(usefulCount))\n",
    "\n",
    "\n",
    "fig, ax = plt.subplots(1,2)\n",
    "\n",
    "title = 'Top 10 medical conditions with most useful reviews'\n",
    "xlabel = 'Ranking'\n",
    "ylabel = 'usefulCount'\n",
    "xs = [c for c in range(1,usefulCount.shape[0]+1)]\n",
    "plot = bar_plot(ax[0], xs, usefulCount, 'winter', title, ylabel, xlabel)\n",
    "autolabel(plot, conditions)\n",
    "\n",
    "\n",
    "# medications top 10:\n",
    "cols = ['condition', 'drugName', 'usefulCount']\n",
    "\n",
    "df_useful_meds = data[cols].groupby(by=[\"drugName\", \"condition\"]).sum().sort_values(by='usefulCount', ascending = False).reset_index().head(10)\n",
    "\n",
    "df_useful_meds\n",
    "\n",
    "usefulCount2 = df_useful_meds['usefulCount']\n",
    "conditions = df_useful_meds['condition']\n",
    "drugNames = df_useful_meds['drugName']\n",
    "\n",
    "labels = [drugNames[i] + '/' + conditions[i] for i in range(10)]\n",
    "print(list(labels))\n",
    "print(list(usefulCount2))\n",
    "\n",
    "title = 'Top 10 medical drugs with most useful reviews'\n",
    "xlabel = 'Ranking'\n",
    "ylabel = ''\n",
    "xs = [c for c in range(1,usefulCount.shape[0]+1)]\n",
    "plot = bar_plot(ax[1], xs, usefulCount2, 'summer', title, ylabel, xlabel)\n",
    "autolabel(plot, labels)\n",
    "\n",
    "plt.savefig('figure1_1.pdf',bbox_inches='tight')\n",
    "plt.show()"
   ]
  },
  {
   "cell_type": "markdown",
   "metadata": {},
   "source": [
    "### Most common words in “useful reviews” - top 1000 user reviews ordered by 'usefulCount'"
   ]
  },
  {
   "cell_type": "code",
   "execution_count": 7,
   "metadata": {},
   "outputs": [
    {
     "name": "stderr",
     "output_type": "stream",
     "text": [
      "[nltk_data] Downloading package stopwords to /home/dejana/nltk_data...\n",
      "[nltk_data]   Package stopwords is already up-to-date!\n"
     ]
    },
    {
     "data": {
      "text/plain": [
       "True"
      ]
     },
     "execution_count": 7,
     "metadata": {},
     "output_type": "execute_result"
    }
   ],
   "source": [
    "import nltk \n",
    "\n",
    "nltk.download('stopwords')"
   ]
  },
  {
   "cell_type": "code",
   "execution_count": 8,
   "metadata": {},
   "outputs": [
    {
     "name": "stdout",
     "output_type": "stream",
     "text": [
      "Excluding the words: {'because', 'hadn', 'own', 'like', \"wasn't\", 'the', 'doesn', \"you've\", 'off', 'or', 'herself', 'did', 'yours', 't', 'these', \"don't\", 'itself', 'theirs', 'shan', \"aren't\", 'me', \"wouldn't\", 'when', 'a', \"she's\", 'here', 'd', 'y', \"hadn't\", 'mightn', 'needn', 'once', 'why', 'those', 'under', 've', 'hasn', 'with', 'is', \"hasn't\", 'if', 'more', 'over', \"should've\", 'have', 'but', \"isn't\", \"won't\", 'after', 'she', \"mightn't\", 'weren', 'no', 'again', 'you', 'other', 'both', 'they', 'yourself', 'such', 'then', \"that'll\", \"i'm\", 'it', 'just', 'ours', 'below', \"couldn't\", 'before', 'shouldn', 'by', 'him', 'll', 'further', 'who', 'an', 'are', 'out', 'as', 'will', 'until', \"you'd\", 'where', 'from', 'ourselves', 's', 'our', 'was', 'himself', \"doesn't\", 'her', \"mustn't\", \"shan't\", 'do', 'wasn', 'mg', 'too', 'same', 'while', 'o', 'doing', 'each', 'them', 'm', \"shouldn't\", 'there', 'were', 'been', 'myself', 'be', 'we', 'and', 'for', \"weren't\", 'against', 're', 'their', 'so', 'couldn', 'not', 'themselves', 'aren', 'should', 'being', 'some', 'has', \"haven't\", 'any', 'yourselves', 'hers', 'of', 'don', 'only', 'between', 'in', 'my', 'that', 'few', 'i', 'very', 'during', 'up', 'can', 'whom', 'having', 'am', 'most', 'your', 'won', 'what', \"it's\", 'isn', 'through', \"you're\", 'its', 'he', 'which', 'now', 'down', 'ain', 'didn', 'than', \"didn't\", 'had', 'above', \"you'll\", 'wouldn', 'at', \"I've\", 'all', 'this', 'does', \"needn't\", 'nor', 'on', 'haven', 'into', 'ma', 'how', 'mustn', 'his', 'to', 'about'}\n",
      "*****************************************\n",
      "long string text her, cooperate\n"
     ]
    }
   ],
   "source": [
    "# Note: Here we exclude the common words because they are not relevant\n",
    "\n",
    "from nltk.corpus import stopwords\n",
    "s=set(stopwords.words('english'))\n",
    "s.add(\"i'm\")\n",
    "s.add('like')\n",
    "s.add(\"I've\")\n",
    "s.add('mg')\n",
    "# s.add\n",
    "print('Excluding the words:', s)\n",
    "print('*****************************************')\n",
    "txt=\"a long string of text about him and her, where they do not cooperate\"\n",
    "print(*filter(lambda w: not w in s,txt.split()))"
   ]
  },
  {
   "cell_type": "code",
   "execution_count": 9,
   "metadata": {},
   "outputs": [],
   "source": [
    "# Functions to be used\n",
    "import re\n",
    "\n",
    "# remove bad things form the reviews (to have only words)\n",
    "def filter_the_review(review):\n",
    "    # remove \"\"\n",
    "    review = re.sub('\\\"', '', review)\n",
    "    \n",
    "    # replace &#39; -> this is equivlaent to '\n",
    "    review = re.sub('&#039;', '\\'', review)\n",
    "    \n",
    "    # remove .,; &quot\n",
    "    review = re.sub('[.,;]', '', review)\n",
    "    review = re.sub('&quot', '', review)\n",
    "    \n",
    "    # change to small letters\n",
    "    review = review.lower()\n",
    "    \n",
    "    # remove numbers\n",
    "    review = re.sub('[0-9]+','', review)\n",
    "    \n",
    "    # replace two spaces with one (if they exist somewhere)\n",
    "    review = re.sub('  ', ' ', review)\n",
    "    \n",
    "    # remove the stopwords\n",
    "    filtered = filter(lambda w: not w in s,review.split())\n",
    "    \n",
    "    return list(filtered)\n",
    "\n",
    "\n",
    "# count the words in a string\n",
    "def word_count(words):\n",
    "    counts = dict()\n",
    "\n",
    "    for word in words:\n",
    "        if word in counts:\n",
    "            counts[word] += 1\n",
    "        else:\n",
    "            counts[word] = 1\n",
    "\n",
    "    return counts\n",
    "\n",
    "# sum up the two dicts\n",
    "def sum_dicts(dict1, dict2):\n",
    "    res = {k: dict1.get(k, 0) + dict2.get(k, 0) for k in set(dict1) | set(dict2)}\n",
    "    return res\n"
   ]
  },
  {
   "cell_type": "code",
   "execution_count": 10,
   "metadata": {},
   "outputs": [
    {
     "name": "stdout",
     "output_type": "stream",
     "text": [
      "\"I remember reading people&#039;s opinions, online, of the drug before I took it and it scared me away from it. Then I finally decided to give it a try and it has been the best choice I have made. I have been on it for over 4 months and I feel great. I&#039;m on 100mg and I don&#039;t have any side effects. When I first started I did notice that my hands would tremble but then it subsided. So honestly, don&#039;t listen to all the negativity because what doesn&#039;t work for some works amazing for others. So go based on youself and not everyone else. It may be a blessing in diguise. The pill is not meant to make you be all happy go lucky and see &quot;butterflies and roses&quot;, its meant to help put the chemicals in your mind in balance so you can just be who you are and not overly depressed. I still get sad some times, but that is normal, that is life, and it&#039;s up to people to take control to make a change. I did so by getting on this pill.\"\n",
      "*************************************\n",
      "['remember', 'reading', \"people's\", 'opinions', 'online', 'drug', 'took', 'scared', 'away', 'finally', 'decided', 'give', 'try', 'best', 'choice', 'made', 'months', 'feel', 'great', 'side', 'effects', 'first', 'started', 'notice', 'hands', 'would', 'tremble', 'subsided', 'honestly', 'listen', 'negativity', 'work', 'works', 'amazing', 'others', 'go', 'based', 'youself', 'everyone', 'else', 'may', 'blessing', 'diguise', 'pill', 'meant', 'make', 'happy', 'go', 'lucky', 'see', 'butterflies', 'roses', 'meant', 'help', 'put', 'chemicals', 'mind', 'balance', 'overly', 'depressed', 'still', 'get', 'sad', 'times', 'normal', 'life', 'people', 'take', 'control', 'make', 'change', 'getting', 'pill']\n",
      "______________________________________\n",
      "{'remember': 1, 'reading': 1, \"people's\": 1, 'opinions': 1, 'online': 1, 'drug': 1, 'took': 1, 'scared': 1, 'away': 1, 'finally': 1, 'decided': 1, 'give': 1, 'try': 1, 'best': 1, 'choice': 1, 'made': 1, 'months': 1, 'feel': 1, 'great': 1, 'side': 1, 'effects': 1, 'first': 1, 'started': 1, 'notice': 1, 'hands': 1, 'would': 1, 'tremble': 1, 'subsided': 1, 'honestly': 1, 'listen': 1, 'negativity': 1, 'work': 1, 'works': 1, 'amazing': 1, 'others': 1, 'go': 2, 'based': 1, 'youself': 1, 'everyone': 1, 'else': 1, 'may': 1, 'blessing': 1, 'diguise': 1, 'pill': 2, 'meant': 2, 'make': 2, 'happy': 1, 'lucky': 1, 'see': 1, 'butterflies': 1, 'roses': 1, 'help': 1, 'put': 1, 'chemicals': 1, 'mind': 1, 'balance': 1, 'overly': 1, 'depressed': 1, 'still': 1, 'get': 1, 'sad': 1, 'times': 1, 'normal': 1, 'life': 1, 'people': 1, 'take': 1, 'control': 1, 'change': 1, 'getting': 1}\n",
      "______________________________________\n",
      "{'iud': 1, 'year': 1, 'think': 1, 'best': 1, 'thing': 1, 'ever': 1, 'first': 1, 'got': 2, 'put': 1, 'bled': 1, 'week': 1, 'little': 1, 'cramping': 2, 'nothing': 2, 'period': 1, 'months': 1, 'finally': 1, 'one': 2, 'bad': 1, 'light': 1, 'headache': 1, 'gained': 1, 'weight': 1, 'acne': 1, 'gone': 1, 'moods': 1, 'fine': 1, 'know': 1, 'women': 1, 'different': 1, 'hear': 1, 'horror': 1, 'stories': 1, 'wanted': 1, 'tell': 1, 'story': 1, 'good': 1, 'hope': 1, 'calms': 1, 'fears': 1}\n",
      "**************************************\n",
      "{'tremble': 1, 'drug': 1, 'made': 1, 'scared': 1, 'else': 1, 'side': 1, 'tell': 1, 'bad': 1, 'great': 1, 'people': 1, 'women': 1, 'depressed': 1, 'sad': 1, 'calms': 1, 'make': 2, 'first': 2, 'amazing': 1, 'period': 1, 'hope': 1, 'get': 1, 'finally': 2, 'still': 1, 'works': 1, 'notice': 1, 'based': 1, 'getting': 1, 'one': 2, 'know': 1, 'help': 1, 'go': 2, 'acne': 1, 'others': 1, 'listen': 1, 'choice': 1, 'thing': 1, 'think': 1, 'nothing': 2, 'moods': 1, 'good': 1, 'story': 1, 'reading': 1, 'times': 1, 'try': 1, 'year': 1, 'balance': 1, 'negativity': 1, 'subsided': 1, 'mind': 1, 'little': 1, 'honestly': 1, 'life': 1, 'roses': 1, 'away': 1, 'pill': 2, 'see': 1, 'opinions': 1, 'gone': 1, 'give': 1, 'hear': 1, 'light': 1, 'remember': 1, 'best': 2, 'meant': 2, 'lucky': 1, 'fears': 1, 'gained': 1, 'took': 1, 'would': 1, 'butterflies': 1, 'happy': 1, 'diguise': 1, 'months': 2, 'got': 2, 'stories': 1, 'decided': 1, 'overly': 1, 'control': 1, 'weight': 1, 'may': 1, 'wanted': 1, 'horror': 1, 'online': 1, 'ever': 1, 'put': 2, 'headache': 1, 'effects': 1, 'cramping': 2, 'different': 1, 'week': 1, 'chemicals': 1, 'normal': 1, 'everyone': 1, 'blessing': 1, 'youself': 1, 'fine': 1, \"people's\": 1, 'feel': 1, 'started': 1, 'iud': 1, 'bled': 1, 'change': 1, 'work': 1, 'take': 1, 'hands': 1}\n"
     ]
    }
   ],
   "source": [
    "# Fetching the data:\n",
    "df_reviews = data.sort_values(by=['usefulCount'], ascending=False).review.head(1000)\n",
    "\n",
    "# Testing the filter:\n",
    "review = df_reviews.iloc[0]\n",
    "print(review)\n",
    "print('*************************************')\n",
    "review = filter_the_review(review)\n",
    "print(review)\n",
    "print('______________________________________')\n",
    "\n",
    "# Testing the counting:\n",
    "cnt1 = word_count(review)\n",
    "print(cnt1)\n",
    "print('______________________________________')\n",
    "\n",
    "# Testing the sum:\n",
    "review2 = df_reviews.iloc[2]\n",
    "review2 = filter_the_review(review2)\n",
    "cnt2 = word_count(review2)\n",
    "print(cnt2)\n",
    "print('**************************************')\n",
    "print(sum_dicts(cnt1,cnt2))\n"
   ]
  },
  {
   "cell_type": "code",
   "execution_count": 11,
   "metadata": {},
   "outputs": [],
   "source": [
    "# count for 1000 top reviews\n",
    "\n",
    "cnt = {}\n",
    "\n",
    "for review in df_reviews:\n",
    "    review = filter_the_review(review)\n",
    "    cnt1 = word_count(review)\n",
    "    cnt = sum_dicts(cnt1, cnt)\n",
    "    \n",
    "# print top 10 words\n",
    "top25 = sorted(cnt, key=cnt.get, reverse=True)[:25]\n",
    "    "
   ]
  },
  {
   "cell_type": "code",
   "execution_count": 12,
   "metadata": {},
   "outputs": [
    {
     "name": "stdout",
     "output_type": "stream",
     "text": [
      "['feel', 'anxiety', 'life', 'years', 'side', 'taking', 'effects', 'take', 'day', 'pain', 'depression', \"i've\", 'time', 'started', 'get', 'would', 'first', 'medication', 'medicine', 'months', 'doctor', 'back', 'better', 'weeks', 'much']\n"
     ]
    }
   ],
   "source": [
    "print(top25)"
   ]
  },
  {
   "cell_type": "code",
   "execution_count": null,
   "metadata": {},
   "outputs": [],
   "source": []
  },
  {
   "cell_type": "code",
   "execution_count": 13,
   "metadata": {},
   "outputs": [
    {
     "data": {
      "text/plain": [
       "14.399999999999999"
      ]
     },
     "execution_count": 13,
     "metadata": {},
     "output_type": "execute_result"
    }
   ],
   "source": [
    "plt.rcParams['axes.labelsize']"
   ]
  },
  {
   "cell_type": "code",
   "execution_count": null,
   "metadata": {},
   "outputs": [],
   "source": []
  }
 ],
 "metadata": {
  "colab": {
   "authorship_tag": "ABX9TyPy6PYnkCAbGfAUf22tMw8i",
   "include_colab_link": true,
   "name": "Project.ipynb",
   "provenance": []
  },
  "kernelspec": {
   "display_name": "Python [conda env:DataLit]",
   "language": "python",
   "name": "conda-env-DataLit-py"
  },
  "language_info": {
   "codemirror_mode": {
    "name": "ipython",
    "version": 3
   },
   "file_extension": ".py",
   "mimetype": "text/x-python",
   "name": "python",
   "nbconvert_exporter": "python",
   "pygments_lexer": "ipython3",
   "version": "3.9.7"
  }
 },
 "nbformat": 4,
 "nbformat_minor": 1
}
