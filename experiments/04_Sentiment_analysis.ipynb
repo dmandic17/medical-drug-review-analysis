{
 "cells": [
  {
   "cell_type": "markdown",
   "metadata": {
    "colab_type": "text",
    "id": "view-in-github"
   },
   "source": [
    "<a href=\"https://colab.research.google.com/github/dmandic17/medical-drug-review-analysis/blob/main/Project.ipynb\" target=\"_parent\"><img src=\"https://colab.research.google.com/assets/colab-badge.svg\" alt=\"Open In Colab\"/></a>"
   ]
  },
  {
   "cell_type": "markdown",
   "metadata": {},
   "source": [
    "# Sentiment analysis\n",
    "\n",
    "**In this notebook, we experiment with some sentiment analysis methods (on reviews)**\n",
    "\n",
    "Used: TextBlob (number for sentiment); \n",
    "Classification (0,1,2): Multinomial Naive Bayes, Random Forest, XGBoost"
   ]
  },
  {
   "cell_type": "code",
   "execution_count": 1,
   "metadata": {
    "colab": {
     "base_uri": "https://localhost:8080/"
    },
    "id": "KEZsznff2PMP",
    "outputId": "d4af4a16-39c0-43f5-db17-8fa4a5264031"
   },
   "outputs": [],
   "source": [
    "import pandas as pd"
   ]
  },
  {
   "cell_type": "code",
   "execution_count": 2,
   "metadata": {},
   "outputs": [],
   "source": [
    "train = pd.read_csv('../data/drugsComTrain_top_conditions.csv')\n",
    "test = pd.read_csv('../data/drugsComTest_top_conditions.csv')"
   ]
  },
  {
   "cell_type": "code",
   "execution_count": 3,
   "metadata": {},
   "outputs": [],
   "source": [
    "import warnings\n",
    "warnings.filterwarnings(\"ignore\")"
   ]
  },
  {
   "cell_type": "markdown",
   "metadata": {},
   "source": [
    "## TextBlob Sentiment Analysis"
   ]
  },
  {
   "cell_type": "code",
   "execution_count": 4,
   "metadata": {},
   "outputs": [],
   "source": [
    "from textblob import TextBlob"
   ]
  },
  {
   "cell_type": "code",
   "execution_count": 5,
   "metadata": {},
   "outputs": [
    {
     "name": "stdout",
     "output_type": "stream",
     "text": [
      "Sentiment(polarity=1.0, subjectivity=1.0)\n",
      "Sentiment(polarity=-1.0, subjectivity=1.0)\n",
      "Sentiment(polarity=0.0, subjectivity=0.0)\n"
     ]
    }
   ],
   "source": [
    "# testing the lib:\n",
    "example1 = \"This is a wonderful product. I am amazed by it.\"  # should be positive\n",
    "example2 = \"This is a terrible product. I would not recommend using it.\" # should be negative\n",
    "example3 = \"Hello.\" # should be neutral\n",
    "\n",
    "blob1 = TextBlob(example1)\n",
    "blob2 = TextBlob(example2)\n",
    "blob3 = TextBlob(example3)\n",
    "\n",
    "print(blob1.sentiment)\n",
    "print(blob2.sentiment)\n",
    "print(blob3.sentiment)"
   ]
  },
  {
   "cell_type": "markdown",
   "metadata": {},
   "source": [
    "Note: Subjectivity is not relevant here, we only care about the sentiment and whether it matches to the rating."
   ]
  },
  {
   "cell_type": "code",
   "execution_count": 6,
   "metadata": {},
   "outputs": [
    {
     "name": "stderr",
     "output_type": "stream",
     "text": [
      "100%|█████████████████████████████████████████████████████████████████████████| 129376/129376 [07:14<00:00, 297.70it/s]\n"
     ]
    }
   ],
   "source": [
    "from tqdm import tqdm\n",
    "\n",
    "reviews = train[\"review\"]\n",
    "\n",
    "def check_sentiments(reviews, data):\n",
    "    sentiments = []\n",
    "    for review in tqdm(reviews):\n",
    "        blob = TextBlob(review)\n",
    "        sentiments += [blob.sentiment.polarity]\n",
    "\n",
    "    data[\"sentiment\"] = sentiments\n",
    "    \n",
    "check_sentiments(reviews, train)"
   ]
  },
  {
   "cell_type": "code",
   "execution_count": 7,
   "metadata": {},
   "outputs": [
    {
     "data": {
      "text/html": [
       "<div>\n",
       "<style scoped>\n",
       "    .dataframe tbody tr th:only-of-type {\n",
       "        vertical-align: middle;\n",
       "    }\n",
       "\n",
       "    .dataframe tbody tr th {\n",
       "        vertical-align: top;\n",
       "    }\n",
       "\n",
       "    .dataframe thead th {\n",
       "        text-align: right;\n",
       "    }\n",
       "</style>\n",
       "<table border=\"1\" class=\"dataframe\">\n",
       "  <thead>\n",
       "    <tr style=\"text-align: right;\">\n",
       "      <th></th>\n",
       "      <th>Unnamed: 0</th>\n",
       "      <th>uniqueID</th>\n",
       "      <th>drugName</th>\n",
       "      <th>condition</th>\n",
       "      <th>review</th>\n",
       "      <th>rating</th>\n",
       "      <th>date</th>\n",
       "      <th>usefulCount</th>\n",
       "      <th>condition_count</th>\n",
       "      <th>sentiment</th>\n",
       "    </tr>\n",
       "  </thead>\n",
       "  <tbody>\n",
       "    <tr>\n",
       "      <th>38990</th>\n",
       "      <td>48611</td>\n",
       "      <td>231652</td>\n",
       "      <td>Trazodone</td>\n",
       "      <td>Insomnia</td>\n",
       "      <td>\"This was the first drug I was ever prescribed...</td>\n",
       "      <td>5</td>\n",
       "      <td>12-Apr-15</td>\n",
       "      <td>26</td>\n",
       "      <td>3673.0</td>\n",
       "      <td>0.237500</td>\n",
       "    </tr>\n",
       "    <tr>\n",
       "      <th>18437</th>\n",
       "      <td>22907</td>\n",
       "      <td>82046</td>\n",
       "      <td>Liraglutide</td>\n",
       "      <td>Obesity</td>\n",
       "      <td>\"I started June 17th taking this medicine, I w...</td>\n",
       "      <td>10</td>\n",
       "      <td>13-Jul-16</td>\n",
       "      <td>8</td>\n",
       "      <td>3568.0</td>\n",
       "      <td>-0.250000</td>\n",
       "    </tr>\n",
       "    <tr>\n",
       "      <th>39413</th>\n",
       "      <td>49135</td>\n",
       "      <td>12439</td>\n",
       "      <td>Parnate</td>\n",
       "      <td>Depression</td>\n",
       "      <td>\"After 15 years of SSRIs and SNRI&amp;#039;s, I wa...</td>\n",
       "      <td>10</td>\n",
       "      <td>19-Sep-09</td>\n",
       "      <td>88</td>\n",
       "      <td>9069.0</td>\n",
       "      <td>0.336735</td>\n",
       "    </tr>\n",
       "    <tr>\n",
       "      <th>31054</th>\n",
       "      <td>38737</td>\n",
       "      <td>44188</td>\n",
       "      <td>Ethinyl estradiol / norgestimate</td>\n",
       "      <td>Birth Control</td>\n",
       "      <td>\"I took this BC for 4 months.  The first month...</td>\n",
       "      <td>5</td>\n",
       "      <td>15-Jul-11</td>\n",
       "      <td>1</td>\n",
       "      <td>28788.0</td>\n",
       "      <td>-0.003571</td>\n",
       "    </tr>\n",
       "    <tr>\n",
       "      <th>93246</th>\n",
       "      <td>116265</td>\n",
       "      <td>196065</td>\n",
       "      <td>Stendra</td>\n",
       "      <td>Erectile Dysfunction</td>\n",
       "      <td>\"I have suffered from erectile dysfunction sin...</td>\n",
       "      <td>5</td>\n",
       "      <td>23-Apr-14</td>\n",
       "      <td>88</td>\n",
       "      <td>1086.0</td>\n",
       "      <td>-0.097917</td>\n",
       "    </tr>\n",
       "  </tbody>\n",
       "</table>\n",
       "</div>"
      ],
      "text/plain": [
       "       Unnamed: 0  uniqueID                          drugName  \\\n",
       "38990       48611    231652                         Trazodone   \n",
       "18437       22907     82046                       Liraglutide   \n",
       "39413       49135     12439                           Parnate   \n",
       "31054       38737     44188  Ethinyl estradiol / norgestimate   \n",
       "93246      116265    196065                           Stendra   \n",
       "\n",
       "                  condition  \\\n",
       "38990              Insomnia   \n",
       "18437               Obesity   \n",
       "39413            Depression   \n",
       "31054         Birth Control   \n",
       "93246  Erectile Dysfunction   \n",
       "\n",
       "                                                  review  rating       date  \\\n",
       "38990  \"This was the first drug I was ever prescribed...       5  12-Apr-15   \n",
       "18437  \"I started June 17th taking this medicine, I w...      10  13-Jul-16   \n",
       "39413  \"After 15 years of SSRIs and SNRI&#039;s, I wa...      10  19-Sep-09   \n",
       "31054  \"I took this BC for 4 months.  The first month...       5  15-Jul-11   \n",
       "93246  \"I have suffered from erectile dysfunction sin...       5  23-Apr-14   \n",
       "\n",
       "       usefulCount  condition_count  sentiment  \n",
       "38990           26           3673.0   0.237500  \n",
       "18437            8           3568.0  -0.250000  \n",
       "39413           88           9069.0   0.336735  \n",
       "31054            1          28788.0  -0.003571  \n",
       "93246           88           1086.0  -0.097917  "
      ]
     },
     "execution_count": 7,
     "metadata": {},
     "output_type": "execute_result"
    }
   ],
   "source": [
    "train.sample(5)"
   ]
  },
  {
   "cell_type": "code",
   "execution_count": 8,
   "metadata": {},
   "outputs": [
    {
     "name": "stdout",
     "output_type": "stream",
     "text": [
      "[[1.         0.35828972]\n",
      " [0.35828972 1.        ]]\n"
     ]
    }
   ],
   "source": [
    "# Do these sentiments \"match\" with the rating?\n",
    "\n",
    "import numpy as np\n",
    "\n",
    "corr = np.corrcoef(train[\"rating\"], train[\"sentiment\"])\n",
    "print(corr)"
   ]
  },
  {
   "cell_type": "code",
   "execution_count": 9,
   "metadata": {},
   "outputs": [
    {
     "data": {
      "image/png": "[encoded data removed]",
      "text/plain": [
       "<Figure size 432x288 with 1 Axes>"
      ]
     },
     "metadata": {
      "needs_background": "light"
     },
     "output_type": "display_data"
    }
   ],
   "source": [
    "# Plotting the correlations\n",
    "\n",
    "import matplotlib.pyplot as plt\n",
    "import seaborn as sns\n",
    "\n",
    "sns.boxplot(x=np.array(train[\"rating\"]),y=np.array(train[\"sentiment\"]))\n",
    "plt.xlabel(\"Rating(Grade)\")\n",
    "plt.ylabel(\"Sentiment\")\n",
    "plt.title(\"Sentiment vs. Rating(Grade)\")\n",
    "plt.show()"
   ]
  },
  {
   "cell_type": "markdown",
   "metadata": {},
   "source": [
    "## Possible improvement: review preprocessing"
   ]
  },
  {
   "cell_type": "code",
   "execution_count": 10,
   "metadata": {},
   "outputs": [],
   "source": [
    "import re\n",
    "from nltk.corpus import stopwords\n",
    "\n",
    "s=set(stopwords.words('english'))\n",
    "s.add(\"i'm\")\n",
    "s.add('like')\n",
    "s.add(\"I've\")\n",
    "s.add('mg')\n",
    "\n",
    "def filter_the_review(review):\n",
    "    # remove \"\"\n",
    "    review = re.sub('\\\"', '', review)\n",
    "    \n",
    "    # replace &#39; -> this is equivlaent to '\n",
    "    review = re.sub('&#039;', '\\'', review)\n",
    "    \n",
    "    # remove .,; &quot\n",
    "    review = re.sub('[.,;]', '', review)\n",
    "    review = re.sub('&quot', '', review)\n",
    "    \n",
    "    # change to small letters\n",
    "    review = review.lower()\n",
    "    \n",
    "    # remove numbers\n",
    "    review = re.sub('[0-9]+','', review)\n",
    "    \n",
    "    # replace two spaces with one (if they exist somewhere)\n",
    "    review = re.sub('  ', ' ', review)\n",
    "    \n",
    "    # remove the stopwords\n",
    "    filtered = filter(lambda w: not w in s,review.split())\n",
    "    \n",
    "    list_words = list(filtered)\n",
    "    string_review = \" \".join(list_words)\n",
    "    \n",
    "    return string_review\n",
    "\n",
    "filter_all = np.vectorize(filter_the_review)"
   ]
  },
  {
   "cell_type": "code",
   "execution_count": 11,
   "metadata": {},
   "outputs": [
    {
     "data": {
      "text/plain": [
       "'son halfway fourth week intuniv became concerned began last week started taking highest dose two days could hardly get bed cranky slept nearly hours drive home school vacation (very unusual him) called doctor monday morning said stick days see school getting morning last two days problem free much agreeable ever less emotional (a good thing) less cranky remembering things overall behavior better tried many different medications far effective'"
      ]
     },
     "execution_count": 11,
     "metadata": {},
     "output_type": "execute_result"
    }
   ],
   "source": [
    "reviews = filter_all(reviews)\n",
    "reviews[0]"
   ]
  },
  {
   "cell_type": "code",
   "execution_count": 12,
   "metadata": {},
   "outputs": [
    {
     "name": "stderr",
     "output_type": "stream",
     "text": [
      "100%|█████████████████████████████████████████████████████████████████████| 129376/129376 [00:30<00:00, 4262.87it/s]\n"
     ]
    }
   ],
   "source": [
    "check_sentiments(reviews, train)"
   ]
  },
  {
   "cell_type": "code",
   "execution_count": 13,
   "metadata": {},
   "outputs": [
    {
     "data": {
      "image/png": "[encoded data removed]",
      "text/plain": [
       "<Figure size 432x288 with 1 Axes>"
      ]
     },
     "metadata": {
      "needs_background": "light"
     },
     "output_type": "display_data"
    }
   ],
   "source": [
    "sns.boxplot(x=np.array(train[\"rating\"]),y=np.array(train[\"sentiment\"]))\n",
    "plt.xlabel(\"Rating(Grade)\")\n",
    "plt.ylabel(\"Sentiment\")\n",
    "plt.title(\"Sentiment vs. Rating(Grade) - with preprocessing\")\n",
    "plt.show()"
   ]
  },
  {
   "cell_type": "code",
   "execution_count": 14,
   "metadata": {},
   "outputs": [
    {
     "name": "stdout",
     "output_type": "stream",
     "text": [
      "[[1.         0.34749598]\n",
      " [0.34749598 1.        ]]\n"
     ]
    }
   ],
   "source": [
    "corr = np.corrcoef(train[\"rating\"], train[\"sentiment\"])\n",
    "print(corr)"
   ]
  },
  {
   "cell_type": "markdown",
   "metadata": {},
   "source": [
    "Note: Even a bit less correlation - maybe it is because of removing 'not' (it is included in stopwords)"
   ]
  },
  {
   "cell_type": "markdown",
   "metadata": {},
   "source": [
    "## Reviews to vectors"
   ]
  },
  {
   "cell_type": "code",
   "execution_count": 15,
   "metadata": {},
   "outputs": [],
   "source": [
    "# Calculate the sentiment and filter the reviews as a preprocessing step\n",
    "\n",
    "train['sentiment'] = train[\"rating\"].apply(lambda x: 2 if x > 7 else (1 if ((x>4)&(x<=7)) else 0))\n",
    "test['sentiment'] = test[\"rating\"].apply(lambda x: 2 if x > 7 else (1 if ((x>4)&(x<=7)) else 0))\n",
    "train['review_filtered'] = reviews # filtered\n",
    "test['review_filtered'] = filter_all(test['review'])\n",
    "solution = test['sentiment']"
   ]
  },
  {
   "cell_type": "code",
   "execution_count": 16,
   "metadata": {},
   "outputs": [],
   "source": [
    "from sklearn.feature_extraction.text import TfidfVectorizer"
   ]
  },
  {
   "cell_type": "code",
   "execution_count": 17,
   "metadata": {},
   "outputs": [
    {
     "data": {
      "text/plain": [
       "(172615, 45434)"
      ]
     },
     "execution_count": 17,
     "metadata": {},
     "output_type": "execute_result"
    }
   ],
   "source": [
    "# Vectorize the reviews to get numerical data\n",
    "\n",
    "vectorizer = TfidfVectorizer()\n",
    "\n",
    "frames = [train, test]\n",
    "all_data = pd.concat(frames)\n",
    "\n",
    "reviews_corpus = vectorizer.fit_transform(all_data['review'])\n",
    "reviews_corpus.shape"
   ]
  },
  {
   "cell_type": "code",
   "execution_count": 18,
   "metadata": {},
   "outputs": [
    {
     "data": {
      "text/plain": [
       "(172615,)"
      ]
     },
     "execution_count": 18,
     "metadata": {},
     "output_type": "execute_result"
    }
   ],
   "source": [
    "# Fetch sentiment (this is Y)\n",
    "\n",
    "sentiment = all_data['sentiment']\n",
    "sentiment.shape"
   ]
  },
  {
   "cell_type": "code",
   "execution_count": 19,
   "metadata": {},
   "outputs": [
    {
     "name": "stdout",
     "output_type": "stream",
     "text": [
      "Train data shape  (115652, 45434) (115652,)\n",
      "Test data shape  (56963, 45434) (56963,)\n"
     ]
    }
   ],
   "source": [
    "# Split the data:\n",
    "\n",
    "from sklearn.model_selection import train_test_split\n",
    "\n",
    "X_train,X_test,Y_train,Y_test = train_test_split(reviews_corpus,sentiment,test_size=0.33,random_state=42)\n",
    "print('Train data shape ',X_train.shape,Y_train.shape)\n",
    "print('Test data shape ',X_test.shape,Y_test.shape)"
   ]
  },
  {
   "cell_type": "markdown",
   "metadata": {},
   "source": [
    "## Multinomial Naive Bayes"
   ]
  },
  {
   "cell_type": "code",
   "execution_count": 20,
   "metadata": {},
   "outputs": [
    {
     "name": "stdout",
     "output_type": "stream",
     "text": [
      "Accuracy: 0.6507381984797149\n",
      "Confusion Matrix\n"
     ]
    },
    {
     "data": {
      "text/plain": [
       "<AxesSubplot:>"
      ]
     },
     "execution_count": 20,
     "metadata": {},
     "output_type": "execute_result"
    },
    {
     "data": {
      "image/png": "[encoded data removed]",
      "text/plain": [
       "<Figure size 432x288 with 2 Axes>"
      ]
     },
     "metadata": {
      "needs_background": "light"
     },
     "output_type": "display_data"
    }
   ],
   "source": [
    "# Fit the model and predicct the output\n",
    " \n",
    "from sklearn.metrics import confusion_matrix\n",
    "from sklearn.naive_bayes import MultinomialNB \n",
    "\n",
    "clf = MultinomialNB().fit(X_train, Y_train) #fit the training data\n",
    "\n",
    "pred = clf.predict(X_test) #predict the sentiment for test data\n",
    "\n",
    "acc_MLB = clf.score(X_test, Y_test)\n",
    "print(\"Accuracy: %s\" % str(acc_MLB))\n",
    "print(\"Confusion Matrix\") \n",
    "cf_matrix_MNB = confusion_matrix(pred, Y_test)\n",
    "\n",
    "sns.heatmap(cf_matrix_MNB/np.sum(cf_matrix_MNB), annot=True,\n",
    "            fmt='.2%', cmap='Oranges')"
   ]
  },
  {
   "cell_type": "markdown",
   "metadata": {},
   "source": [
    "## Random Forest"
   ]
  },
  {
   "cell_type": "code",
   "execution_count": 21,
   "metadata": {},
   "outputs": [
    {
     "name": "stdout",
     "output_type": "stream",
     "text": [
      "Accuracy: 0.8514474307884065\n",
      "Confusion Matrix\n"
     ]
    },
    {
     "data": {
      "text/plain": [
       "<AxesSubplot:>"
      ]
     },
     "execution_count": 21,
     "metadata": {},
     "output_type": "execute_result"
    },
    {
     "data": {
      "image/png": "[encoded data removed]",
      "text/plain": [
       "<Figure size 432x288 with 2 Axes>"
      ]
     },
     "metadata": {
      "needs_background": "light"
     },
     "output_type": "display_data"
    }
   ],
   "source": [
    "# Fit the model and predicct the output\n",
    "\n",
    "from sklearn.ensemble import RandomForestClassifier \n",
    "clf = RandomForestClassifier().fit(X_train, Y_train)\n",
    "\n",
    "pred = clf.predict(X_test)\n",
    "\n",
    "acc_RF = clf.score(X_test, Y_test)\n",
    "print(\"Accuracy: %s\" % str(acc_RF))\n",
    "print(\"Confusion Matrix\")\n",
    "cf_matrix_RB = confusion_matrix(pred, Y_test)\n",
    "\n",
    "sns.heatmap(cf_matrix_RB/np.sum(cf_matrix_RB), annot=True, \n",
    "            fmt='.2%', cmap='Greens')"
   ]
  },
  {
   "cell_type": "markdown",
   "metadata": {},
   "source": [
    "## XGBoost"
   ]
  },
  {
   "cell_type": "code",
   "execution_count": 22,
   "metadata": {},
   "outputs": [
    {
     "name": "stdout",
     "output_type": "stream",
     "text": [
      "[19:25:56] WARNING: ../src/learner.cc:576: \n",
      "Parameters: { \"n_estimator\", \"num_leaves\" } might not be used.\n",
      "\n",
      "  This could be a false alarm, with some parameters getting used by language bindings but\n",
      "  then being mistakenly passed down to XGBoost core, or some parameter actually being used\n",
      "  but getting flagged wrongly here. Please open an issue if you find any such cases.\n",
      "\n",
      "\n",
      "[19:25:57] WARNING: ../src/learner.cc:1115: Starting in XGBoost 1.3.0, the default evaluation metric used with the objective 'multi:softprob' was changed from 'merror' to 'mlogloss'. Explicitly set eval_metric if you'd like to restore the old behavior.\n",
      "Accuracy: 0.7106191738496919\n",
      "Confusion Matrix\n"
     ]
    },
    {
     "data": {
      "text/plain": [
       "<AxesSubplot:>"
      ]
     },
     "execution_count": 22,
     "metadata": {},
     "output_type": "execute_result"
    },
    {
     "data": {
      "image/png": "[encoded data removed]",
      "text/plain": [
       "<Figure size 432x288 with 2 Axes>"
      ]
     },
     "metadata": {
      "needs_background": "light"
     },
     "output_type": "display_data"
    }
   ],
   "source": [
    "# Fit the model and predicct the output\n",
    "\n",
    "from xgboost import XGBClassifier\n",
    "\n",
    "xgb_clf = XGBClassifier(n_estimator = 10000,\n",
    "                    learning_rate=0.10,\n",
    "                    num_leaves=30)\n",
    "\n",
    "model_xgb = xgb_clf.fit(X_train, Y_train)\n",
    "\n",
    "pred = model_xgb.predict(X_test)\n",
    "\n",
    "acc_XGB = model_xgb.score(X_test, Y_test)\n",
    "print(\"Accuracy: %s\" % str(acc_XGB))\n",
    "print(\"Confusion Matrix\") \n",
    "cf_matrix_XGB = confusion_matrix(pred, Y_test)\n",
    "\n",
    "sns.heatmap(cf_matrix_XGB/np.sum(cf_matrix_XGB), annot=True, \n",
    "            fmt='.2%', cmap='Blues')"
   ]
  },
  {
   "cell_type": "code",
   "execution_count": 23,
   "metadata": {},
   "outputs": [
    {
     "name": "stdout",
     "output_type": "stream",
     "text": [
      "Accuracy: 0.7106191738496919\n"
     ]
    }
   ],
   "source": [
    "print(\"Accuracy: %s\" % str(model_xgb.score(X_test, Y_test)))"
   ]
  },
  {
   "cell_type": "code",
   "execution_count": 24,
   "metadata": {},
   "outputs": [],
   "source": [
    "def addlabels(x,y):\n",
    "    for i in range(len(x)):\n",
    "        plt.text(i, y[i]+0.01, round(y[i],2), ha = 'center')"
   ]
  },
  {
   "cell_type": "code",
   "execution_count": 25,
   "metadata": {},
   "outputs": [],
   "source": [
    "from tueplots import bundles\n",
    "from matplotlib import pyplot as plt\n",
    "\n",
    "plt.rcParams.update(bundles.neurips2021(usetex=False, ncols=3, nrows=2))"
   ]
  },
  {
   "cell_type": "code",
   "execution_count": 42,
   "metadata": {},
   "outputs": [
    {
     "data": {
      "image/png": "[encoded data removed]",
      "text/plain": [
       "<Figure size 396x163.161 with 5 Axes>"
      ]
     },
     "metadata": {
      "needs_background": "light"
     },
     "output_type": "display_data"
    }
   ],
   "source": [
    "fig =plt.figure()\n",
    "fig.subplots_adjust(bottom=0.025, left=0.025, top = 0.975, right=0.975)\n",
    "\n",
    "X = [(2,3,1), (2,3,2), (2,3,3), (2,3,(4,6))]\n",
    "i = 1\n",
    "subs = []\n",
    "for nrows, ncols, plot_number in X:\n",
    "    sub = fig.add_subplot(nrows, ncols, plot_number)\n",
    "    subs.append(sub)\n",
    "    \n",
    "sns.heatmap(cf_matrix_MNB/np.sum(cf_matrix_MNB), ax=subs[0], annot=True, \n",
    "            fmt='.2%', cmap='Greens', cbar=False, annot_kws={\"size\": 8.2})    \n",
    "sns.heatmap(cf_matrix_RB/np.sum(cf_matrix_RB), ax=subs[1], annot=True, \n",
    "            fmt='.2%', cmap='Greens', cbar=False, annot_kws={\"size\": 8.2})\n",
    "sns.heatmap(cf_matrix_XGB/np.sum(cf_matrix_XGB), ax=subs[2], annot=True, \n",
    "            fmt='.2%', cmap='Greens', cbar=True, annot_kws={\"size\": 8})\n",
    "\n",
    "y = [acc_MLB, acc_XGB, acc_RF]\n",
    "x = ['',' ', '  ']\n",
    "sns_acc = sns.barplot(x = x, y = y, palette = 'Greens', alpha = 0.5, ax=subs[3])\n",
    "addlabels(x,y)\n",
    "\n",
    "sns_acc.spines[\"top\"].set_visible(False)\n",
    "sns_acc.spines[\"right\"].set_visible(False)\n",
    "sns_acc.set_ylabel('Accuracy')\n",
    "plt.vlines(x = 0.5, ymin = 0, ymax = 1, color = 'gray', linewidth=2, linestyles ='dashdot')\n",
    "plt.vlines(x = 1.5, ymin = 0, ymax = 1, color = 'gray', linewidth=2, linestyles ='dashdot')\n",
    "\n",
    "plt.savefig('figure2.pdf',bbox_inches='tight')\n",
    "#     sns_useful.set_xlabel(xlabel)\n",
    "#     plt.setp(sns_useful.get_xticklabels(), rotation=angle)"
   ]
  },
  {
   "cell_type": "code",
   "execution_count": null,
   "metadata": {},
   "outputs": [],
   "source": []
  },
  {
   "cell_type": "code",
   "execution_count": null,
   "metadata": {},
   "outputs": [],
   "source": []
  }
 ],
 "metadata": {
  "colab": {
   "authorship_tag": "ABX9TyPy6PYnkCAbGfAUf22tMw8i",
   "include_colab_link": true,
   "name": "Project.ipynb",
   "provenance": []
  },
  "kernelspec": {
   "display_name": "Python [conda env:DataLit]",
   "language": "python",
   "name": "conda-env-DataLit-py"
  },
  "language_info": {
   "codemirror_mode": {
    "name": "ipython",
    "version": 3
   },
   "file_extension": ".py",
   "mimetype": "text/x-python",
   "name": "python",
   "nbconvert_exporter": "python",
   "pygments_lexer": "ipython3",
   "version": "3.9.7"
  }
 },
 "nbformat": 4,
 "nbformat_minor": 1
}
