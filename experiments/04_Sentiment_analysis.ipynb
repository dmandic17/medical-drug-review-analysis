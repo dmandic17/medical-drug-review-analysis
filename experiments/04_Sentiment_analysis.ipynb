{
 "cells": [
  {
   "cell_type": "markdown",
   "metadata": {
    "colab_type": "text",
    "id": "view-in-github"
   },
   "source": [
    "<a href=\"https://colab.research.google.com/github/dmandic17/medical-drug-review-analysis/blob/main/Project.ipynb\" target=\"_parent\"><img src=\"https://colab.research.google.com/assets/colab-badge.svg\" alt=\"Open In Colab\"/></a>"
   ]
  },
  {
   "cell_type": "markdown",
   "metadata": {},
   "source": [
    "# Sentiment analysis\n",
    "\n",
    "**In this notebook, we experiment with some sentiment analysis methods (on reviews)**\n",
    "\n",
    "Used: TextBlob (number for sentiment); \n",
    "Classification (0,1,2): Multinomial Naive Bayes, Random Forest, XGBoost"
   ]
  },
  {
   "cell_type": "code",
   "execution_count": 1,
   "metadata": {
    "colab": {
     "base_uri": "https://localhost:8080/"
    },
    "id": "KEZsznff2PMP",
    "outputId": "d4af4a16-39c0-43f5-db17-8fa4a5264031"
   },
   "outputs": [],
   "source": [
    "import pandas as pd"
   ]
  },
  {
   "cell_type": "code",
   "execution_count": 2,
   "metadata": {},
   "outputs": [],
   "source": [
    "train = pd.read_csv('../data/drugsComTrain_top_conditions.csv')\n",
    "test = pd.read_csv('../data/drugsComTest_top_conditions.csv')"
   ]
  },
  {
   "cell_type": "code",
   "execution_count": 3,
   "metadata": {},
   "outputs": [],
   "source": [
    "import warnings\n",
    "warnings.filterwarnings(\"ignore\")"
   ]
  },
  {
   "cell_type": "markdown",
   "metadata": {},
   "source": [
    "## TextBlob Sentiment Analysis"
   ]
  },
  {
   "cell_type": "code",
   "execution_count": 4,
   "metadata": {},
   "outputs": [],
   "source": [
    "from textblob import TextBlob"
   ]
  },
  {
   "cell_type": "code",
   "execution_count": 5,
   "metadata": {},
   "outputs": [
    {
     "name": "stdout",
     "output_type": "stream",
     "text": [
      "Sentiment(polarity=1.0, subjectivity=1.0)\n",
      "Sentiment(polarity=-1.0, subjectivity=1.0)\n",
      "Sentiment(polarity=0.0, subjectivity=0.0)\n"
     ]
    }
   ],
   "source": [
    "# testing the lib:\n",
    "example1 = \"This is a wonderful product. I am amazed by it.\"  # should be positive\n",
    "example2 = \"This is a terrible product. I would not recommend using it.\" # should be negative\n",
    "example3 = \"Hello.\" # should be neutral\n",
    "\n",
    "blob1 = TextBlob(example1)\n",
    "blob2 = TextBlob(example2)\n",
    "blob3 = TextBlob(example3)\n",
    "\n",
    "print(blob1.sentiment)\n",
    "print(blob2.sentiment)\n",
    "print(blob3.sentiment)"
   ]
  },
  {
   "cell_type": "markdown",
   "metadata": {},
   "source": [
    "Note: Subjectivity is not relevant here, we only care about the sentiment and whether it matches to the rating."
   ]
  },
  {
   "cell_type": "code",
   "execution_count": 6,
   "metadata": {},
   "outputs": [
    {
     "name": "stderr",
     "output_type": "stream",
     "text": [
      "100%|█████████████████████████████████████████████████████████████████████| 129376/129376 [00:53<00:00, 2440.36it/s]\n"
     ]
    }
   ],
   "source": [
    "from tqdm import tqdm\n",
    "\n",
    "reviews = train[\"review\"]\n",
    "\n",
    "def check_sentiments(reviews, data):\n",
    "    sentiments = []\n",
    "    for review in tqdm(reviews):\n",
    "        blob = TextBlob(review)\n",
    "        sentiments += [blob.sentiment.polarity]\n",
    "\n",
    "    data[\"sentiment\"] = sentiments\n",
    "    \n",
    "check_sentiments(reviews, train)"
   ]
  },
  {
   "cell_type": "code",
   "execution_count": 7,
   "metadata": {},
   "outputs": [
    {
     "data": {
      "text/html": [
       "<div>\n",
       "<style scoped>\n",
       "    .dataframe tbody tr th:only-of-type {\n",
       "        vertical-align: middle;\n",
       "    }\n",
       "\n",
       "    .dataframe tbody tr th {\n",
       "        vertical-align: top;\n",
       "    }\n",
       "\n",
       "    .dataframe thead th {\n",
       "        text-align: right;\n",
       "    }\n",
       "</style>\n",
       "<table border=\"1\" class=\"dataframe\">\n",
       "  <thead>\n",
       "    <tr style=\"text-align: right;\">\n",
       "      <th></th>\n",
       "      <th>Unnamed: 0</th>\n",
       "      <th>uniqueID</th>\n",
       "      <th>drugName</th>\n",
       "      <th>condition</th>\n",
       "      <th>review</th>\n",
       "      <th>rating</th>\n",
       "      <th>date</th>\n",
       "      <th>usefulCount</th>\n",
       "      <th>condition_count</th>\n",
       "      <th>sentiment</th>\n",
       "    </tr>\n",
       "  </thead>\n",
       "  <tbody>\n",
       "    <tr>\n",
       "      <th>87470</th>\n",
       "      <td>109036</td>\n",
       "      <td>106745</td>\n",
       "      <td>Implanon</td>\n",
       "      <td>Birth Control</td>\n",
       "      <td>\"Had mine for a year, did gain half a stone af...</td>\n",
       "      <td>5</td>\n",
       "      <td>29-May-15</td>\n",
       "      <td>2</td>\n",
       "      <td>28788.0</td>\n",
       "      <td>0.148889</td>\n",
       "    </tr>\n",
       "    <tr>\n",
       "      <th>35282</th>\n",
       "      <td>44019</td>\n",
       "      <td>112323</td>\n",
       "      <td>Contrave</td>\n",
       "      <td>Obesity</td>\n",
       "      <td>\"I&amp;#039;m not sure I can do this medication.  ...</td>\n",
       "      <td>3</td>\n",
       "      <td>28-Jan-15</td>\n",
       "      <td>58</td>\n",
       "      <td>3568.0</td>\n",
       "      <td>-0.125000</td>\n",
       "    </tr>\n",
       "    <tr>\n",
       "      <th>120742</th>\n",
       "      <td>150548</td>\n",
       "      <td>163694</td>\n",
       "      <td>Mirtazapine</td>\n",
       "      <td>Depression</td>\n",
       "      <td>\"So far I haven&amp;#039;t seen anyone on here tha...</td>\n",
       "      <td>9</td>\n",
       "      <td>27-Jan-13</td>\n",
       "      <td>81</td>\n",
       "      <td>9069.0</td>\n",
       "      <td>0.216649</td>\n",
       "    </tr>\n",
       "    <tr>\n",
       "      <th>88950</th>\n",
       "      <td>110859</td>\n",
       "      <td>106937</td>\n",
       "      <td>Implanon</td>\n",
       "      <td>Birth Control</td>\n",
       "      <td>\"I have had Implanon for over a year and the s...</td>\n",
       "      <td>1</td>\n",
       "      <td>2-Jan-14</td>\n",
       "      <td>28</td>\n",
       "      <td>28788.0</td>\n",
       "      <td>-0.525000</td>\n",
       "    </tr>\n",
       "    <tr>\n",
       "      <th>4341</th>\n",
       "      <td>5402</td>\n",
       "      <td>163818</td>\n",
       "      <td>Mirtazapine</td>\n",
       "      <td>Depression</td>\n",
       "      <td>\"This antidepressant has been a blessing in my...</td>\n",
       "      <td>10</td>\n",
       "      <td>12-Sep-09</td>\n",
       "      <td>190</td>\n",
       "      <td>9069.0</td>\n",
       "      <td>0.159722</td>\n",
       "    </tr>\n",
       "  </tbody>\n",
       "</table>\n",
       "</div>"
      ],
      "text/plain": [
       "        Unnamed: 0  uniqueID     drugName      condition  \\\n",
       "87470       109036    106745     Implanon  Birth Control   \n",
       "35282        44019    112323     Contrave        Obesity   \n",
       "120742      150548    163694  Mirtazapine     Depression   \n",
       "88950       110859    106937     Implanon  Birth Control   \n",
       "4341          5402    163818  Mirtazapine     Depression   \n",
       "\n",
       "                                                   review  rating       date  \\\n",
       "87470   \"Had mine for a year, did gain half a stone af...       5  29-May-15   \n",
       "35282   \"I&#039;m not sure I can do this medication.  ...       3  28-Jan-15   \n",
       "120742  \"So far I haven&#039;t seen anyone on here tha...       9  27-Jan-13   \n",
       "88950   \"I have had Implanon for over a year and the s...       1   2-Jan-14   \n",
       "4341    \"This antidepressant has been a blessing in my...      10  12-Sep-09   \n",
       "\n",
       "        usefulCount  condition_count  sentiment  \n",
       "87470             2          28788.0   0.148889  \n",
       "35282            58           3568.0  -0.125000  \n",
       "120742           81           9069.0   0.216649  \n",
       "88950            28          28788.0  -0.525000  \n",
       "4341            190           9069.0   0.159722  "
      ]
     },
     "execution_count": 7,
     "metadata": {},
     "output_type": "execute_result"
    }
   ],
   "source": [
    "train.sample(5)"
   ]
  },
  {
   "cell_type": "code",
   "execution_count": 8,
   "metadata": {},
   "outputs": [
    {
     "name": "stdout",
     "output_type": "stream",
     "text": [
      "[[1.         0.35828972]\n",
      " [0.35828972 1.        ]]\n"
     ]
    }
   ],
   "source": [
    "# Do these sentiments \"match\" with the rating?\n",
    "\n",
    "import numpy as np\n",
    "\n",
    "corr = np.corrcoef(train[\"rating\"], train[\"sentiment\"])\n",
    "print(corr)"
   ]
  },
  {
   "cell_type": "code",
   "execution_count": 9,
   "metadata": {},
   "outputs": [
    {
     "data": {
      "image/png": "[encoded data removed]",
      "text/plain": [
       "<Figure size 432x288 with 1 Axes>"
      ]
     },
     "metadata": {
      "needs_background": "light"
     },
     "output_type": "display_data"
    }
   ],
   "source": [
    "# Plotting the correlations\n",
    "\n",
    "import matplotlib.pyplot as plt\n",
    "import seaborn as sns\n",
    "\n",
    "sns.boxplot(x=np.array(train[\"rating\"]),y=np.array(train[\"sentiment\"]))\n",
    "plt.xlabel(\"Rating(Grade)\")\n",
    "plt.ylabel(\"Sentiment\")\n",
    "plt.title(\"Sentiment vs. Rating(Grade)\")\n",
    "plt.show()"
   ]
  },
  {
   "cell_type": "markdown",
   "metadata": {},
   "source": [
    "## Possible improvement: review preprocessing"
   ]
  },
  {
   "cell_type": "code",
   "execution_count": 10,
   "metadata": {},
   "outputs": [],
   "source": [
    "import re\n",
    "from nltk.corpus import stopwords\n",
    "\n",
    "s=set(stopwords.words('english'))\n",
    "s.add(\"i'm\")\n",
    "s.add('like')\n",
    "s.add(\"I've\")\n",
    "s.add('mg')\n",
    "\n",
    "def filter_the_review(review):\n",
    "    # remove \"\"\n",
    "    review = re.sub('\\\"', '', review)\n",
    "    \n",
    "    # replace &#39; -> this is equivlaent to '\n",
    "    review = re.sub('&#039;', '\\'', review)\n",
    "    \n",
    "    # remove .,; &quot\n",
    "    review = re.sub('[.,;]', '', review)\n",
    "    review = re.sub('&quot', '', review)\n",
    "    \n",
    "    # change to small letters\n",
    "    review = review.lower()\n",
    "    \n",
    "    # remove numbers\n",
    "    review = re.sub('[0-9]+','', review)\n",
    "    \n",
    "    # replace two spaces with one (if they exist somewhere)\n",
    "    review = re.sub('  ', ' ', review)\n",
    "    \n",
    "    # remove the stopwords\n",
    "    filtered = filter(lambda w: not w in s,review.split())\n",
    "    \n",
    "    list_words = list(filtered)\n",
    "    string_review = \" \".join(list_words)\n",
    "    \n",
    "    return string_review\n",
    "\n",
    "filter_all = np.vectorize(filter_the_review)"
   ]
  },
  {
   "cell_type": "code",
   "execution_count": 11,
   "metadata": {},
   "outputs": [
    {
     "data": {
      "text/plain": [
       "'son halfway fourth week intuniv became concerned began last week started taking highest dose two days could hardly get bed cranky slept nearly hours drive home school vacation (very unusual him) called doctor monday morning said stick days see school getting morning last two days problem free much agreeable ever less emotional (a good thing) less cranky remembering things overall behavior better tried many different medications far effective'"
      ]
     },
     "execution_count": 11,
     "metadata": {},
     "output_type": "execute_result"
    }
   ],
   "source": [
    "reviews = filter_all(reviews)\n",
    "reviews[0]"
   ]
  },
  {
   "cell_type": "code",
   "execution_count": 12,
   "metadata": {},
   "outputs": [
    {
     "name": "stderr",
     "output_type": "stream",
     "text": [
      "100%|█████████████████████████████████████████████████████████████████████| 129376/129376 [00:31<00:00, 4058.18it/s]\n"
     ]
    }
   ],
   "source": [
    "check_sentiments(reviews, train)"
   ]
  },
  {
   "cell_type": "code",
   "execution_count": 13,
   "metadata": {},
   "outputs": [
    {
     "data": {
      "image/png": "[encoded data removed]",
      "text/plain": [
       "<Figure size 432x288 with 1 Axes>"
      ]
     },
     "metadata": {
      "needs_background": "light"
     },
     "output_type": "display_data"
    }
   ],
   "source": [
    "sns.boxplot(x=np.array(train[\"rating\"]),y=np.array(train[\"sentiment\"]))\n",
    "plt.xlabel(\"Rating(Grade)\")\n",
    "plt.ylabel(\"Sentiment\")\n",
    "plt.title(\"Sentiment vs. Rating(Grade) - with preprocessing\")\n",
    "plt.show()"
   ]
  },
  {
   "cell_type": "code",
   "execution_count": 14,
   "metadata": {},
   "outputs": [
    {
     "name": "stdout",
     "output_type": "stream",
     "text": [
      "[[1.         0.34749598]\n",
      " [0.34749598 1.        ]]\n"
     ]
    }
   ],
   "source": [
    "corr = np.corrcoef(train[\"rating\"], train[\"sentiment\"])\n",
    "print(corr)"
   ]
  },
  {
   "cell_type": "markdown",
   "metadata": {},
   "source": [
    "Note: Even a bit less correlation - maybe it is because of removing 'not' (it is included in stopwords)"
   ]
  },
  {
   "cell_type": "markdown",
   "metadata": {},
   "source": [
    "## Reviews to vectors"
   ]
  },
  {
   "cell_type": "code",
   "execution_count": 15,
   "metadata": {},
   "outputs": [],
   "source": [
    "# Calculate the sentiment and filter the reviews as a preprocessing step\n",
    "\n",
    "train['sentiment'] = train[\"rating\"].apply(lambda x: 2 if x > 7 else (1 if ((x>4)&(x<=7)) else 0))\n",
    "test['sentiment'] = test[\"rating\"].apply(lambda x: 2 if x > 7 else (1 if ((x>4)&(x<=7)) else 0))\n",
    "train['review_filtered'] = reviews # filtered\n",
    "test['review_filtered'] = filter_all(test['review'])\n",
    "solution = test['sentiment']"
   ]
  },
  {
   "cell_type": "code",
   "execution_count": 16,
   "metadata": {},
   "outputs": [],
   "source": [
    "from sklearn.feature_extraction.text import TfidfVectorizer"
   ]
  },
  {
   "cell_type": "code",
   "execution_count": 17,
   "metadata": {},
   "outputs": [
    {
     "data": {
      "text/plain": [
       "(172615, 45434)"
      ]
     },
     "execution_count": 17,
     "metadata": {},
     "output_type": "execute_result"
    }
   ],
   "source": [
    "# Vectorize the reviews to get numerical data\n",
    "\n",
    "vectorizer = TfidfVectorizer()\n",
    "\n",
    "frames = [train, test]\n",
    "all_data = pd.concat(frames)\n",
    "\n",
    "reviews_corpus = vectorizer.fit_transform(all_data['review'])\n",
    "reviews_corpus.shape"
   ]
  },
  {
   "cell_type": "code",
   "execution_count": 18,
   "metadata": {},
   "outputs": [
    {
     "data": {
      "text/plain": [
       "(172615,)"
      ]
     },
     "execution_count": 18,
     "metadata": {},
     "output_type": "execute_result"
    }
   ],
   "source": [
    "# Fetch sentiment (this is Y)\n",
    "\n",
    "sentiment = all_data['sentiment']\n",
    "sentiment.shape"
   ]
  },
  {
   "cell_type": "code",
   "execution_count": 19,
   "metadata": {},
   "outputs": [
    {
     "name": "stdout",
     "output_type": "stream",
     "text": [
      "Train data shape  (115652, 45434) (115652,)\n",
      "Test data shape  (56963, 45434) (56963,)\n"
     ]
    }
   ],
   "source": [
    "# Split the data:\n",
    "\n",
    "from sklearn.model_selection import train_test_split\n",
    "\n",
    "X_train,X_test,Y_train,Y_test = train_test_split(reviews_corpus,sentiment,test_size=0.33,random_state=42)\n",
    "print('Train data shape ',X_train.shape,Y_train.shape)\n",
    "print('Test data shape ',X_test.shape,Y_test.shape)"
   ]
  },
  {
   "cell_type": "markdown",
   "metadata": {},
   "source": [
    "## Multinomial Naive Bayes"
   ]
  },
  {
   "cell_type": "code",
   "execution_count": 20,
   "metadata": {},
   "outputs": [
    {
     "name": "stdout",
     "output_type": "stream",
     "text": [
      "Accuracy: 0.6507381984797149\n",
      "Confusion Matrix\n"
     ]
    },
    {
     "data": {
      "text/plain": [
       "<AxesSubplot:>"
      ]
     },
     "execution_count": 20,
     "metadata": {},
     "output_type": "execute_result"
    },
    {
     "data": {
      "image/png": "[encoded data removed]",
      "text/plain": [
       "<Figure size 432x288 with 2 Axes>"
      ]
     },
     "metadata": {
      "needs_background": "light"
     },
     "output_type": "display_data"
    }
   ],
   "source": [
    "# Fit the model and predicct the output\n",
    " \n",
    "from sklearn.metrics import confusion_matrix\n",
    "from sklearn.naive_bayes import MultinomialNB \n",
    "\n",
    "clf = MultinomialNB().fit(X_train, Y_train) #fit the training data\n",
    "\n",
    "pred = clf.predict(X_test) #predict the sentiment for test data\n",
    "\n",
    "print(\"Accuracy: %s\" % str(clf.score(X_test, Y_test)))\n",
    "print(\"Confusion Matrix\") \n",
    "cf_matrix = confusion_matrix(pred, Y_test)\n",
    "\n",
    "sns.heatmap(cf_matrix/np.sum(cf_matrix), annot=True,\n",
    "            fmt='.2%', cmap='Oranges')"
   ]
  },
  {
   "cell_type": "markdown",
   "metadata": {},
   "source": [
    "## Random Forest"
   ]
  },
  {
   "cell_type": "code",
   "execution_count": 21,
   "metadata": {},
   "outputs": [
    {
     "name": "stdout",
     "output_type": "stream",
     "text": [
      "Accuracy: 0.8510085494092656\n",
      "Confusion Matrix\n"
     ]
    },
    {
     "data": {
      "text/plain": [
       "<AxesSubplot:>"
      ]
     },
     "execution_count": 21,
     "metadata": {},
     "output_type": "execute_result"
    },
    {
     "data": {
      "image/png": "[encoded data removed]",
      "text/plain": [
       "<Figure size 432x288 with 2 Axes>"
      ]
     },
     "metadata": {
      "needs_background": "light"
     },
     "output_type": "display_data"
    }
   ],
   "source": [
    "# Fit the model and predicct the output\n",
    "\n",
    "from sklearn.ensemble import RandomForestClassifier \n",
    "clf = RandomForestClassifier().fit(X_train, Y_train)\n",
    "\n",
    "pred = clf.predict(X_test)\n",
    "\n",
    "print(\"Accuracy: %s\" % str(clf.score(X_test, Y_test)))\n",
    "print(\"Confusion Matrix\")\n",
    "cf_matrix = confusion_matrix(pred, Y_test)\n",
    "\n",
    "sns.heatmap(cf_matrix/np.sum(cf_matrix), annot=True, \n",
    "            fmt='.2%', cmap='Greens')"
   ]
  },
  {
   "cell_type": "markdown",
   "metadata": {},
   "source": [
    "## XGBoost"
   ]
  },
  {
   "cell_type": "code",
   "execution_count": 22,
   "metadata": {},
   "outputs": [
    {
     "name": "stdout",
     "output_type": "stream",
     "text": [
      "[21:09:49] WARNING: ../src/learner.cc:576: \n",
      "Parameters: { \"n_estimator\", \"num_leaves\" } might not be used.\n",
      "\n",
      "  This could be a false alarm, with some parameters getting used by language bindings but\n",
      "  then being mistakenly passed down to XGBoost core, or some parameter actually being used\n",
      "  but getting flagged wrongly here. Please open an issue if you find any such cases.\n",
      "\n",
      "\n",
      "[21:09:50] WARNING: ../src/learner.cc:1115: Starting in XGBoost 1.3.0, the default evaluation metric used with the objective 'multi:softprob' was changed from 'merror' to 'mlogloss'. Explicitly set eval_metric if you'd like to restore the old behavior.\n",
      "Accuracy: 0.7106191738496919\n",
      "Confusion Matrix\n"
     ]
    },
    {
     "data": {
      "text/plain": [
       "<AxesSubplot:>"
      ]
     },
     "execution_count": 22,
     "metadata": {},
     "output_type": "execute_result"
    },
    {
     "data": {
      "image/png": "[encoded data removed]",
      "text/plain": [
       "<Figure size 432x288 with 2 Axes>"
      ]
     },
     "metadata": {
      "needs_background": "light"
     },
     "output_type": "display_data"
    }
   ],
   "source": [
    "# Fit the model and predicct the output\n",
    "\n",
    "from xgboost import XGBClassifier\n",
    "\n",
    "xgb_clf = XGBClassifier(n_estimator = 10000,\n",
    "                    learning_rate=0.10,\n",
    "                    num_leaves=30)\n",
    "\n",
    "model_xgb = xgb_clf.fit(X_train, Y_train)\n",
    "\n",
    "pred = model_xgb.predict(X_test)\n",
    "\n",
    "print(\"Accuracy: %s\" % str(model_xgb.score(X_test, Y_test)))\n",
    "print(\"Confusion Matrix\") \n",
    "cf_matrix = confusion_matrix(pred, Y_test)\n",
    "\n",
    "sns.heatmap(cf_matrix/np.sum(cf_matrix), annot=True, \n",
    "            fmt='.2%', cmap='Blues')"
   ]
  },
  {
   "cell_type": "code",
   "execution_count": 23,
   "metadata": {},
   "outputs": [
    {
     "name": "stdout",
     "output_type": "stream",
     "text": [
      "Accuracy: 0.7106191738496919\n"
     ]
    }
   ],
   "source": [
    "print(\"Accuracy: %s\" % str(model_xgb.score(X_test, Y_test)))"
   ]
  }
 ],
 "metadata": {
  "colab": {
   "authorship_tag": "ABX9TyPy6PYnkCAbGfAUf22tMw8i",
   "include_colab_link": true,
   "name": "Project.ipynb",
   "provenance": []
  },
  "kernelspec": {
   "display_name": "Python 3.8.12 64-bit ('self-driving': conda)",
   "language": "python",
   "name": "python3812jvsc74a57bd0c7d43d92220dfc7d487998248b18994d37ac1f4a236add3cbf6b78dee378ff48"
  },
  "language_info": {
   "codemirror_mode": {
    "name": "ipython",
    "version": 3
   },
   "file_extension": ".py",
   "mimetype": "text/x-python",
   "name": "python",
   "nbconvert_exporter": "python",
   "pygments_lexer": "ipython3",
   "version": "3.8.12"
  }
 },
 "nbformat": 4,
 "nbformat_minor": 1
}
